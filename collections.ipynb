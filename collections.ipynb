{
 "cells": [
  {
   "cell_type": "code",
   "execution_count": 3,
   "metadata": {},
   "outputs": [],
   "source": [
    "import pandas as pd\n",
    "import numpy as np"
   ]
  },
  {
   "cell_type": "markdown",
   "metadata": {},
   "source": [
    "Write a python code that can get all the rarity ranks of the tokens in these collections. You can use Opensea API, RaritySniper API, Looksrare platform, or any other platform/ source/ API to get these."
   ]
  },
  {
   "cell_type": "markdown",
   "metadata": {},
   "source": [
    "#### load data"
   ]
  },
  {
   "cell_type": "code",
   "execution_count": 100,
   "metadata": {},
   "outputs": [],
   "source": [
    "data = pd.read_csv(\"data/Collections_Assignment.csv\")"
   ]
  },
  {
   "cell_type": "markdown",
   "metadata": {},
   "source": [
    "load opensea API key"
   ]
  },
  {
   "cell_type": "code",
   "execution_count": null,
   "metadata": {},
   "outputs": [],
   "source": [
    "import yaml\n",
    "\n",
    "with open('config/config.yaml') as f:\n",
    "    config = yaml.safe_load(f)\n",
    "\n",
    "API_KEY = config['API_KEY']\n",
    "\n"
   ]
  },
  {
   "cell_type": "markdown",
   "metadata": {},
   "source": [
    "### fetching collection stats using opensea API and collection slug - unique to a NFT Collection"
   ]
  },
  {
   "cell_type": "code",
   "execution_count": 102,
   "metadata": {},
   "outputs": [],
   "source": [
    "import requests\n",
    "import requests\n",
    "collection_slug = \"robofrens\"\n",
    "\n",
    "url = f\"https://api.opensea.io/api/v2/collections/{collection_slug}/stats\"\n",
    "\n",
    "headers = {\"accept\": \"application/json\", \"X-API-KEY\": API_KEY}\n",
    "\n",
    "response = requests.get(url, headers=headers)\n",
    "\n",
    "resp = response.json()\n"
   ]
  },
  {
   "cell_type": "code",
   "execution_count": 105,
   "metadata": {},
   "outputs": [],
   "source": [
    "data.columns = ['contract_address', 'collection_slug']"
   ]
  },
  {
   "cell_type": "code",
   "execution_count": 106,
   "metadata": {},
   "outputs": [
    {
     "data": {
      "text/plain": [
       "739"
      ]
     },
     "execution_count": 106,
     "metadata": {},
     "output_type": "execute_result"
    }
   ],
   "source": [
    "collection_slugs = list(data['collection_slug'].drop_duplicates().to_numpy())\n",
    "len(collection_slugs)"
   ]
  },
  {
   "cell_type": "code",
   "execution_count": null,
   "metadata": {},
   "outputs": [],
   "source": [
    "import requests\n",
    "\n",
    "url = \"https://api.opensea.io/api/v2/traits/collection_slug\"\n",
    "\n",
    "headers = {\"accept\": \"application/json\"}\n",
    "\n",
    "response = requests.get(url, headers=headers)\n",
    "\n",
    "print(response.text)"
   ]
  },
  {
   "cell_type": "code",
   "execution_count": 31,
   "metadata": {},
   "outputs": [
    {
     "name": "stderr",
     "output_type": "stream",
     "text": [
      "Fetching Collection Stats: 100%|██████████| 739/739 [28:34<00:00,  2.32s/it]    \n"
     ]
    }
   ],
   "source": [
    "import requests\n",
    "import ast\n",
    "from tqdm import tqdm\n",
    "from concurrent.futures import ThreadPoolExecutor, as_completed\n",
    "import time\n",
    "\n",
    "collection_stats = []\n",
    "\n",
    "def fetch_collection_stats(cs):\n",
    "    url = f\"https://api.opensea.io/api/v2/collections/{cs}/stats\"\n",
    "    headers = {\"accept\": \"application/json\", \"X-API-KEY\": API_KEY}\n",
    "\n",
    "    response = requests.get(url, headers=headers)\n",
    "\n",
    "    if response.status_code == 200:\n",
    "        return ast.literal_eval(response.text)\n",
    "    else:\n",
    "        return None\n",
    "\n",
    "# Use ThreadPoolExecutor to make parallel API calls\n",
    "with ThreadPoolExecutor(max_workers=5) as executor:  # You can adjust max_workers as needed\n",
    "    futures = [executor.submit(fetch_collection_stats, cs) for cs in collection_slugs]\n",
    "\n",
    "    # tqdm to display progress bar\n",
    "    for future in tqdm(as_completed(futures), total=len(futures), desc=\"Fetching Collection Stats\"):\n",
    "        result = future.result()\n",
    "        collection_stats.append(result)\n",
    "        time.sleep(1)  # Add a delay between requests to avoid rate limiting\n",
    "\n",
    "\n"
   ]
  },
  {
   "cell_type": "code",
   "execution_count": 32,
   "metadata": {},
   "outputs": [
    {
     "data": {
      "text/plain": [
       "739"
      ]
     },
     "execution_count": 32,
     "metadata": {},
     "output_type": "execute_result"
    }
   ],
   "source": [
    "len(collection_stats)"
   ]
  },
  {
   "cell_type": "code",
   "execution_count": 37,
   "metadata": {},
   "outputs": [],
   "source": [
    "collection_stats_df = pd.DataFrame({'collection_slug': collection_slugs, 'collection_stats': collection_stats})"
   ]
  },
  {
   "cell_type": "code",
   "execution_count": 38,
   "metadata": {},
   "outputs": [
    {
     "data": {
      "text/plain": [
       "(739, 2)"
      ]
     },
     "execution_count": 38,
     "metadata": {},
     "output_type": "execute_result"
    }
   ],
   "source": [
    "collection_stats_df.shape"
   ]
  },
  {
   "cell_type": "code",
   "execution_count": 60,
   "metadata": {},
   "outputs": [
    {
     "data": {
      "text/plain": [
       "(739, 2)"
      ]
     },
     "execution_count": 60,
     "metadata": {},
     "output_type": "execute_result"
    }
   ],
   "source": [
    "collection_stats_df.shape"
   ]
  },
  {
   "cell_type": "code",
   "execution_count": 61,
   "metadata": {},
   "outputs": [],
   "source": [
    "collection_stats_df.to_pickle(\"data/collection_stats_df.pkl\")"
   ]
  },
  {
   "cell_type": "code",
   "execution_count": 39,
   "metadata": {},
   "outputs": [
    {
     "data": {
      "text/plain": [
       "(863, 3)"
      ]
     },
     "execution_count": 39,
     "metadata": {},
     "output_type": "execute_result"
    }
   ],
   "source": [
    "data_collection_stats = data.merge(collection_stats_df, on = 'collection_slug')\n",
    "data_collection_stats.shape"
   ]
  },
  {
   "cell_type": "code",
   "execution_count": 118,
   "metadata": {},
   "outputs": [],
   "source": [
    "data_collection_stats.columns = ['contract_address', 'collection_slug', 'collection_stats']"
   ]
  },
  {
   "cell_type": "code",
   "execution_count": 122,
   "metadata": {},
   "outputs": [],
   "source": [
    "data_collection_stats = data_collection_stats[['collection_slug', 'contract_address', 'collection_stats']]\n",
    "data_collection_stats.to_pickle(\"data/data_collection_stats.pkl\")"
   ]
  },
  {
   "cell_type": "markdown",
   "metadata": {},
   "source": [
    "#### below - details on nfts corresponding to a collection can be found, however max no of nfts that can be fetched from a collection is 200, so to fetch the next set of 200 nfts we use the next address"
   ]
  },
  {
   "cell_type": "code",
   "execution_count": 123,
   "metadata": {},
   "outputs": [],
   "source": [
    "import requests\n",
    "\n",
    "url = \"https://api.opensea.io/api/v2/collection/robofrens/nfts?limit=200\"\n",
    "\n",
    "payload = {}\n",
    "headers = {\n",
    "  'accept': 'application/json',\n",
    "  'X-API-KEY': API_KEY,\n",
    "}\n",
    "\n",
    "response = requests.request(\"GET\", url, headers=headers, data=payload)\n",
    "\n",
    "resp = response.json()\n"
   ]
  },
  {
   "cell_type": "code",
   "execution_count": 124,
   "metadata": {},
   "outputs": [
    {
     "data": {
      "text/plain": [
       "200"
      ]
     },
     "execution_count": 124,
     "metadata": {},
     "output_type": "execute_result"
    }
   ],
   "source": [
    "len(resp['nfts'])"
   ]
  },
  {
   "cell_type": "markdown",
   "metadata": {},
   "source": [
    "fetching the next 200 nfts using next cursor value"
   ]
  },
  {
   "cell_type": "code",
   "execution_count": 126,
   "metadata": {},
   "outputs": [],
   "source": [
    "import requests\n",
    "\n",
    "url = \"https://api.opensea.io/api/v2/collection/robofrens/nfts?limit=200&next=LXBrPTMwNzE5NzIxMg==\"\n",
    "\n",
    "payload = {}\n",
    "headers = {\n",
    "  'accept': 'application/json',\n",
    "  'X-API-KEY': API_KEY\n",
    "}\n",
    "\n",
    "response = requests.request(\"GET\", url, headers=headers, data=payload)\n",
    "\n",
    "resp2 = response.json()\n"
   ]
  },
  {
   "cell_type": "code",
   "execution_count": 127,
   "metadata": {},
   "outputs": [
    {
     "data": {
      "text/plain": [
       "'robo fren #776'"
      ]
     },
     "execution_count": 127,
     "metadata": {},
     "output_type": "execute_result"
    }
   ],
   "source": [
    "resp['nfts'][0]['name']"
   ]
  },
  {
   "cell_type": "code",
   "execution_count": 128,
   "metadata": {},
   "outputs": [
    {
     "data": {
      "text/plain": [
       "'robo fren #576'"
      ]
     },
     "execution_count": 128,
     "metadata": {},
     "output_type": "execute_result"
    }
   ],
   "source": [
    "resp2['nfts'][0]['name']"
   ]
  },
  {
   "cell_type": "markdown",
   "metadata": {},
   "source": [
    "as there is no direct way to get the total no of nfts within a collection, without iterating through next parameter, until its complete,  using opensea, \n",
    "\n",
    "I will be using raritysniper that directly gives the totalsupply or nft count corresponding to a collection\n",
    "\n",
    "Here, the 'totalSupply' key for the API response - gives the total no of NFTs, and directly gives the associated rarity ranking based on the trait scores using its algorithm"
   ]
  },
  {
   "cell_type": "code",
   "execution_count": 139,
   "metadata": {},
   "outputs": [],
   "source": [
    "import requests\n",
    "\n",
    "url = \"https://api.raritysniper.com/public/collection/bearsontheblock\"\n",
    "\n",
    "payload = {}\n",
    "headers = {\n",
    "  'Referer': 'https://raritysniper.com/'\n",
    "}\n",
    "\n",
    "response = requests.request(\"GET\", url, headers=headers, data=payload)\n",
    "\n",
    "resp = response.json()\n",
    "\n",
    "collection_size = resp['totalSupply']"
   ]
  },
  {
   "cell_type": "code",
   "execution_count": 5,
   "metadata": {},
   "outputs": [],
   "source": [
    "payload = {}\n",
    "headers = {\n",
    "  'Referer': 'https://raritysniper.com/'\n",
    "}\n",
    "\n",
    "def size_of_collection(collection_slug):\n",
    "    url = f\"https://api.raritysniper.com/public/collection/{collection_slug}\"\n",
    "\n",
    "\n",
    "    response = requests.request(\"GET\", url, headers=headers, data=payload)\n",
    "\n",
    "    resp = response.json()\n",
    "    \n",
    "    try:\n",
    "\n",
    "        collection_size = resp['totalSupply']\n",
    "    except Exception:\n",
    "        collection_size = 0\n",
    "\n",
    "    return collection_size\n"
   ]
  },
  {
   "cell_type": "code",
   "execution_count": 131,
   "metadata": {},
   "outputs": [
    {
     "data": {
      "text/plain": [
       "9495"
      ]
     },
     "execution_count": 131,
     "metadata": {},
     "output_type": "execute_result"
    }
   ],
   "source": [
    "resp['totalSupply']"
   ]
  },
  {
   "cell_type": "code",
   "execution_count": 133,
   "metadata": {},
   "outputs": [
    {
     "data": {
      "text/plain": [
       "{'name': 'BearsOnTheBlock',\n",
       " 'image': 'https://media.raritysniper.com/collections/bearsontheblock.png',\n",
       " 'imageSource': 'auto',\n",
       " 'imageTransparency': False,\n",
       " 'openseaImage': 'https://lh3.googleusercontent.com/qvxO_5Q4jmprUYuUZ-nRb2wNuyf4_XJBzBcdcyEflXVGk2W825hidKvq7qL6uODDwurq1_mSdWXWWJkMAsMT13T_FhbLH_rKjjCJRA',\n",
       " 'openseaSlug': 'bearsontheblock',\n",
       " 'openseaDescription': 'The companions of the Bulls on the Block. Every Bull needs a Bear! There could not have been a better companion. The two most iconic animals in the crypto space.',\n",
       " 'openseaLastSalesRebuild': '2023-08-08T13:23:28.427Z',\n",
       " 'collectionSlug': 'bearsontheblock',\n",
       " 'contractAddress': '0x02aa731631c6d7f8241d74f906f5b51724ab98f8',\n",
       " 'fromTokenId': None,\n",
       " 'toTokenId': None,\n",
       " 'solanaCollectionToken': None,\n",
       " 'osSharedContract': False,\n",
       " 'blockchain': 'ethereum',\n",
       " 'websiteUrl': 'https://bullsontheblock.com/',\n",
       " 'discordUrl': 'https://discord.gg/bullsontheblock',\n",
       " 'twitterHandle': 'bullsontheblock',\n",
       " 'instagramHandle': None,\n",
       " 'supply': 9495,\n",
       " 'totalSupply': 9495,\n",
       " 'traitsData': {'Fur': [{'count': 49,\n",
       "    'percent': 0.52,\n",
       "    'traitValue': 'Golden',\n",
       "    'rarityScore': 133.08},\n",
       "   {'count': 89,\n",
       "    'percent': 0.94,\n",
       "    'traitValue': 'Rainbow',\n",
       "    'rarityScore': 73.27},\n",
       "   {'count': 109, 'percent': 1.15, 'traitValue': 'Lava', 'rarityScore': 59.83},\n",
       "   {'count': 192,\n",
       "    'percent': 2.02,\n",
       "    'traitValue': 'Alien',\n",
       "    'rarityScore': 33.96},\n",
       "   {'count': 284,\n",
       "    'percent': 2.99,\n",
       "    'traitValue': 'Zombie',\n",
       "    'rarityScore': 22.96},\n",
       "   {'count': 304,\n",
       "    'percent': 3.2,\n",
       "    'traitValue': 'Leopard',\n",
       "    'rarityScore': 21.45},\n",
       "   {'count': 442,\n",
       "    'percent': 4.65,\n",
       "    'traitValue': 'Robot',\n",
       "    'rarityScore': 14.75},\n",
       "   {'count': 682, 'percent': 7.18, 'traitValue': 'White', 'rarityScore': 9.56},\n",
       "   {'count': 1035, 'percent': 10.9, 'traitValue': 'Pink', 'rarityScore': 6.3},\n",
       "   {'count': 1038,\n",
       "    'percent': 10.93,\n",
       "    'traitValue': 'Grey',\n",
       "    'rarityScore': 6.28},\n",
       "   {'count': 1039,\n",
       "    'percent': 10.94,\n",
       "    'traitValue': 'Light Brown',\n",
       "    'rarityScore': 6.28},\n",
       "   {'count': 1040, 'percent': 10.95, 'traitValue': 'Red', 'rarityScore': 6.27},\n",
       "   {'count': 1057,\n",
       "    'percent': 11.13,\n",
       "    'traitValue': 'Brown',\n",
       "    'rarityScore': 6.17},\n",
       "   {'count': 1062,\n",
       "    'percent': 11.18,\n",
       "    'traitValue': 'Blue',\n",
       "    'rarityScore': 6.14},\n",
       "   {'count': 1074,\n",
       "    'percent': 11.31,\n",
       "    'traitValue': 'Purple',\n",
       "    'rarityScore': 6.07}],\n",
       "  'Hat': [{'count': 52,\n",
       "    'percent': 0.55,\n",
       "    'traitValue': 'Rainbow Wizard Hat',\n",
       "    'rarityScore': 55.33},\n",
       "   {'count': 65,\n",
       "    'percent': 0.68,\n",
       "    'traitValue': 'Botb Cap',\n",
       "    'rarityScore': 44.26},\n",
       "   {'count': 110,\n",
       "    'percent': 1.16,\n",
       "    'traitValue': 'Black Hat',\n",
       "    'rarityScore': 26.15},\n",
       "   {'count': 121,\n",
       "    'percent': 1.27,\n",
       "    'traitValue': 'Emperor',\n",
       "    'rarityScore': 23.78},\n",
       "   {'count': 123,\n",
       "    'percent': 1.3,\n",
       "    'traitValue': 'Sombrero',\n",
       "    'rarityScore': 23.39},\n",
       "   {'count': 126,\n",
       "    'percent': 1.33,\n",
       "    'traitValue': 'Kings Crown',\n",
       "    'rarityScore': 22.83},\n",
       "   {'count': 151,\n",
       "    'percent': 1.59,\n",
       "    'traitValue': 'Top Hat',\n",
       "    'rarityScore': 19.05},\n",
       "   {'count': 162, 'percent': 1.71, 'traitValue': 'Afro', 'rarityScore': 17.76},\n",
       "   {'count': 162,\n",
       "    'percent': 1.71,\n",
       "    'traitValue': 'Fishers Hat',\n",
       "    'rarityScore': 17.76},\n",
       "   {'count': 165,\n",
       "    'percent': 1.74,\n",
       "    'traitValue': 'Black Long Hair',\n",
       "    'rarityScore': 17.44},\n",
       "   {'count': 166,\n",
       "    'percent': 1.75,\n",
       "    'traitValue': 'Blonde',\n",
       "    'rarityScore': 17.33},\n",
       "   {'count': 172,\n",
       "    'percent': 1.81,\n",
       "    'traitValue': 'Black Hair',\n",
       "    'rarityScore': 16.73},\n",
       "   {'count': 179,\n",
       "    'percent': 1.89,\n",
       "    'traitValue': 'Brown Long Hair',\n",
       "    'rarityScore': 16.07},\n",
       "   {'count': 181,\n",
       "    'percent': 1.91,\n",
       "    'traitValue': 'Afro Hair',\n",
       "    'rarityScore': 15.89},\n",
       "   {'count': 190,\n",
       "    'percent': 2,\n",
       "    'traitValue': 'Police Hat',\n",
       "    'rarityScore': 15.14},\n",
       "   {'count': 191,\n",
       "    'percent': 2.01,\n",
       "    'traitValue': 'Bowler Hat',\n",
       "    'rarityScore': 15.06},\n",
       "   {'count': 194,\n",
       "    'percent': 2.04,\n",
       "    'traitValue': 'Propeller',\n",
       "    'rarityScore': 14.83},\n",
       "   {'count': 204,\n",
       "    'percent': 2.15,\n",
       "    'traitValue': 'Wooden Hat',\n",
       "    'rarityScore': 14.1},\n",
       "   {'count': 207,\n",
       "    'percent': 2.18,\n",
       "    'traitValue': 'Pirate Bandana',\n",
       "    'rarityScore': 13.9},\n",
       "   {'count': 218,\n",
       "    'percent': 2.3,\n",
       "    'traitValue': 'Red Bandana',\n",
       "    'rarityScore': 13.2},\n",
       "   {'count': 244,\n",
       "    'percent': 2.57,\n",
       "    'traitValue': 'Captain Hat',\n",
       "    'rarityScore': 11.79},\n",
       "   {'count': 253,\n",
       "    'percent': 2.66,\n",
       "    'traitValue': 'Dreadlocks',\n",
       "    'rarityScore': 11.37},\n",
       "   {'count': 267,\n",
       "    'percent': 2.81,\n",
       "    'traitValue': 'White Hat',\n",
       "    'rarityScore': 10.77},\n",
       "   {'count': 278,\n",
       "    'percent': 2.93,\n",
       "    'traitValue': 'Peaky Blinders',\n",
       "    'rarityScore': 10.35},\n",
       "   {'count': 291,\n",
       "    'percent': 3.06,\n",
       "    'traitValue': 'Viking Helmet',\n",
       "    'rarityScore': 9.89},\n",
       "   {'count': 291,\n",
       "    'percent': 3.06,\n",
       "    'traitValue': 'Mohawk',\n",
       "    'rarityScore': 9.89},\n",
       "   {'count': 294, 'percent': 3.1, 'traitValue': 'Elvis', 'rarityScore': 9.79},\n",
       "   {'count': 414, 'percent': 4.36, 'traitValue': 'Foux', 'rarityScore': 6.95},\n",
       "   {'count': 422,\n",
       "    'percent': 4.44,\n",
       "    'traitValue': 'Cowboy',\n",
       "    'rarityScore': 6.82},\n",
       "   {'count': 424, 'percent': 4.47, 'traitValue': 'Beret', 'rarityScore': 6.79},\n",
       "   {'count': 438,\n",
       "    'percent': 4.61,\n",
       "    'traitValue': 'Army Helmet',\n",
       "    'rarityScore': 6.57},\n",
       "   {'count': 518,\n",
       "    'percent': 5.45,\n",
       "    'traitValue': 'Green Beanie',\n",
       "    'rarityScore': 5.55},\n",
       "   {'count': 521,\n",
       "    'percent': 5.49,\n",
       "    'traitValue': 'Green Cap',\n",
       "    'rarityScore': 5.52},\n",
       "   {'count': 1702,\n",
       "    'percent': 17.92,\n",
       "    'traitValue': 'None',\n",
       "    'rarityScore': 1.69}],\n",
       "  'Eyes': [{'count': 42,\n",
       "    'percent': 0.44,\n",
       "    'traitValue': 'Diamond',\n",
       "    'rarityScore': 77.63},\n",
       "   {'count': 71,\n",
       "    'percent': 0.75,\n",
       "    'traitValue': 'Blue Scary',\n",
       "    'rarityScore': 45.92},\n",
       "   {'count': 80, 'percent': 0.84, 'traitValue': 'Fire', 'rarityScore': 40.76},\n",
       "   {'count': 100,\n",
       "    'percent': 1.05,\n",
       "    'traitValue': 'Green Glowing',\n",
       "    'rarityScore': 32.61},\n",
       "   {'count': 116,\n",
       "    'percent': 1.22,\n",
       "    'traitValue': 'Green',\n",
       "    'rarityScore': 28.11},\n",
       "   {'count': 157,\n",
       "    'percent': 1.65,\n",
       "    'traitValue': 'Pink Glasses',\n",
       "    'rarityScore': 20.77},\n",
       "   {'count': 168,\n",
       "    'percent': 1.77,\n",
       "    'traitValue': 'Neutral',\n",
       "    'rarityScore': 19.41},\n",
       "   {'count': 174,\n",
       "    'percent': 1.83,\n",
       "    'traitValue': 'Money',\n",
       "    'rarityScore': 18.74},\n",
       "   {'count': 185, 'percent': 1.95, 'traitValue': 'Blue', 'rarityScore': 17.62},\n",
       "   {'count': 188,\n",
       "    'percent': 1.98,\n",
       "    'traitValue': 'Cheetah Glasses',\n",
       "    'rarityScore': 17.34},\n",
       "   {'count': 195, 'percent': 2.05, 'traitValue': 'Sick', 'rarityScore': 16.72},\n",
       "   {'count': 198,\n",
       "    'percent': 2.09,\n",
       "    'traitValue': 'Black',\n",
       "    'rarityScore': 16.47},\n",
       "   {'count': 200,\n",
       "    'percent': 2.11,\n",
       "    'traitValue': 'Green Mad',\n",
       "    'rarityScore': 16.3},\n",
       "   {'count': 235,\n",
       "    'percent': 2.47,\n",
       "    'traitValue': 'Crying',\n",
       "    'rarityScore': 13.87},\n",
       "   {'count': 250,\n",
       "    'percent': 2.63,\n",
       "    'traitValue': 'Angry',\n",
       "    'rarityScore': 13.04},\n",
       "   {'count': 251,\n",
       "    'percent': 2.64,\n",
       "    'traitValue': 'Square Sun Glasses',\n",
       "    'rarityScore': 12.99},\n",
       "   {'count': 260,\n",
       "    'percent': 2.74,\n",
       "    'traitValue': 'Square Glasses',\n",
       "    'rarityScore': 12.54},\n",
       "   {'count': 289, 'percent': 3.04, 'traitValue': 'Mad', 'rarityScore': 11.28},\n",
       "   {'count': 302,\n",
       "    'percent': 3.18,\n",
       "    'traitValue': 'Small Glasses',\n",
       "    'rarityScore': 10.8},\n",
       "   {'count': 313,\n",
       "    'percent': 3.3,\n",
       "    'traitValue': 'Sun Glasses',\n",
       "    'rarityScore': 10.42},\n",
       "   {'count': 322,\n",
       "    'percent': 3.39,\n",
       "    'traitValue': 'Panic',\n",
       "    'rarityScore': 10.13},\n",
       "   {'count': 350,\n",
       "    'percent': 3.69,\n",
       "    'traitValue': 'Round Glasses',\n",
       "    'rarityScore': 9.32},\n",
       "   {'count': 355,\n",
       "    'percent': 3.74,\n",
       "    'traitValue': 'Stoned',\n",
       "    'rarityScore': 9.18},\n",
       "   {'count': 358,\n",
       "    'percent': 3.77,\n",
       "    'traitValue': 'Cautious',\n",
       "    'rarityScore': 9.11},\n",
       "   {'count': 404,\n",
       "    'percent': 4.25,\n",
       "    'traitValue': 'Closed',\n",
       "    'rarityScore': 8.07},\n",
       "   {'count': 539,\n",
       "    'percent': 5.68,\n",
       "    'traitValue': 'Serious',\n",
       "    'rarityScore': 6.05},\n",
       "   {'count': 616,\n",
       "    'percent': 6.49,\n",
       "    'traitValue': 'Confused',\n",
       "    'rarityScore': 5.29},\n",
       "   {'count': 751, 'percent': 7.91, 'traitValue': 'Weird', 'rarityScore': 4.34},\n",
       "   {'count': 1012,\n",
       "    'percent': 10.66,\n",
       "    'traitValue': 'Normal',\n",
       "    'rarityScore': 3.22},\n",
       "   {'count': 1015,\n",
       "    'percent': 10.69,\n",
       "    'traitValue': 'Bored',\n",
       "    'rarityScore': 3.21}],\n",
       "  'Mouth': [{'count': 42,\n",
       "    'percent': 0.44,\n",
       "    'traitValue': 'Golden Fish',\n",
       "    'rarityScore': 80.31},\n",
       "   {'count': 82,\n",
       "    'percent': 0.86,\n",
       "    'traitValue': 'Golden Rose',\n",
       "    'rarityScore': 41.13},\n",
       "   {'count': 139, 'percent': 1.46, 'traitValue': 'Rose', 'rarityScore': 24.27},\n",
       "   {'count': 163,\n",
       "    'percent': 1.72,\n",
       "    'traitValue': 'Cigar',\n",
       "    'rarityScore': 20.69},\n",
       "   {'count': 173,\n",
       "    'percent': 1.82,\n",
       "    'traitValue': 'China Moustache',\n",
       "    'rarityScore': 19.5},\n",
       "   {'count': 173,\n",
       "    'percent': 1.82,\n",
       "    'traitValue': 'Cigaret',\n",
       "    'rarityScore': 19.5},\n",
       "   {'count': 174,\n",
       "    'percent': 1.83,\n",
       "    'traitValue': 'Golden Grill',\n",
       "    'rarityScore': 19.38},\n",
       "   {'count': 178, 'percent': 1.87, 'traitValue': 'Fish', 'rarityScore': 18.95},\n",
       "   {'count': 180,\n",
       "    'percent': 1.9,\n",
       "    'traitValue': 'Goatee',\n",
       "    'rarityScore': 18.74},\n",
       "   {'count': 187, 'percent': 1.97, 'traitValue': 'Pipe', 'rarityScore': 18.04},\n",
       "   {'count': 203,\n",
       "    'percent': 2.14,\n",
       "    'traitValue': 'Pierced Cigaret',\n",
       "    'rarityScore': 16.62},\n",
       "   {'count': 218, 'percent': 2.3, 'traitValue': 'Kiss', 'rarityScore': 15.47},\n",
       "   {'count': 222,\n",
       "    'percent': 2.34,\n",
       "    'traitValue': 'Lip Stick',\n",
       "    'rarityScore': 15.19},\n",
       "   {'count': 252,\n",
       "    'percent': 2.65,\n",
       "    'traitValue': 'Big Beard',\n",
       "    'rarityScore': 13.38},\n",
       "   {'count': 265,\n",
       "    'percent': 2.79,\n",
       "    'traitValue': 'Angry',\n",
       "    'rarityScore': 12.73},\n",
       "   {'count': 298, 'percent': 3.14, 'traitValue': 'Grrr', 'rarityScore': 11.32},\n",
       "   {'count': 299, 'percent': 3.15, 'traitValue': 'Ooh', 'rarityScore': 11.28},\n",
       "   {'count': 318,\n",
       "    'percent': 3.35,\n",
       "    'traitValue': 'Injured',\n",
       "    'rarityScore': 10.61},\n",
       "   {'count': 319,\n",
       "    'percent': 3.36,\n",
       "    'traitValue': 'Goatee Mustache',\n",
       "    'rarityScore': 10.57},\n",
       "   {'count': 337,\n",
       "    'percent': 3.55,\n",
       "    'traitValue': 'Bubble Gum',\n",
       "    'rarityScore': 10.01},\n",
       "   {'count': 354, 'percent': 3.73, 'traitValue': 'Open', 'rarityScore': 9.53},\n",
       "   {'count': 394,\n",
       "    'percent': 4.15,\n",
       "    'traitValue': 'Tongue',\n",
       "    'rarityScore': 8.56},\n",
       "   {'count': 475, 'percent': 5, 'traitValue': 'Big Ooh', 'rarityScore': 7.1},\n",
       "   {'count': 538,\n",
       "    'percent': 5.67,\n",
       "    'traitValue': 'Painful',\n",
       "    'rarityScore': 6.27},\n",
       "   {'count': 592, 'percent': 6.23, 'traitValue': 'Bored', 'rarityScore': 5.7},\n",
       "   {'count': 658,\n",
       "    'percent': 6.93,\n",
       "    'traitValue': 'Moustache',\n",
       "    'rarityScore': 5.13},\n",
       "   {'count': 692, 'percent': 7.29, 'traitValue': 'Smile', 'rarityScore': 4.87},\n",
       "   {'count': 696,\n",
       "    'percent': 7.33,\n",
       "    'traitValue': 'Normal',\n",
       "    'rarityScore': 4.85},\n",
       "   {'count': 875,\n",
       "    'percent': 9.21,\n",
       "    'traitValue': 'Unshaven Beard',\n",
       "    'rarityScore': 3.85}],\n",
       "  'Clothes': [{'count': 52,\n",
       "    'percent': 0.55,\n",
       "    'traitValue': 'Yakuza',\n",
       "    'rarityScore': 40.02},\n",
       "   {'count': 86,\n",
       "    'percent': 0.91,\n",
       "    'traitValue': 'Golden General',\n",
       "    'rarityScore': 24.2},\n",
       "   {'count': 96,\n",
       "    'percent': 1.01,\n",
       "    'traitValue': 'General',\n",
       "    'rarityScore': 21.68},\n",
       "   {'count': 101,\n",
       "    'percent': 1.06,\n",
       "    'traitValue': 'Blue Business Suit',\n",
       "    'rarityScore': 20.61},\n",
       "   {'count': 103,\n",
       "    'percent': 1.08,\n",
       "    'traitValue': 'Business Black',\n",
       "    'rarityScore': 20.21},\n",
       "   {'count': 108,\n",
       "    'percent': 1.14,\n",
       "    'traitValue': 'Pimp Coat',\n",
       "    'rarityScore': 19.27},\n",
       "   {'count': 117,\n",
       "    'percent': 1.23,\n",
       "    'traitValue': 'Business Red Tie',\n",
       "    'rarityScore': 17.79},\n",
       "   {'count': 125,\n",
       "    'percent': 1.32,\n",
       "    'traitValue': 'Tatted Botb',\n",
       "    'rarityScore': 16.65},\n",
       "   {'count': 125,\n",
       "    'percent': 1.32,\n",
       "    'traitValue': 'Sexy Shirt',\n",
       "    'rarityScore': 16.65},\n",
       "   {'count': 128,\n",
       "    'percent': 1.35,\n",
       "    'traitValue': 'Bulls Eye Shirt',\n",
       "    'rarityScore': 16.26},\n",
       "   {'count': 128,\n",
       "    'percent': 1.35,\n",
       "    'traitValue': 'Sailor Shirt',\n",
       "    'rarityScore': 16.26},\n",
       "   {'count': 129,\n",
       "    'percent': 1.36,\n",
       "    'traitValue': 'Skull Head',\n",
       "    'rarityScore': 16.13},\n",
       "   {'count': 136,\n",
       "    'percent': 1.43,\n",
       "    'traitValue': 'Viking',\n",
       "    'rarityScore': 15.3},\n",
       "   {'count': 136,\n",
       "    'percent': 1.43,\n",
       "    'traitValue': 'Business White Shirt',\n",
       "    'rarityScore': 15.3},\n",
       "   {'count': 140,\n",
       "    'percent': 1.47,\n",
       "    'traitValue': 'Skull Roses Shirt',\n",
       "    'rarityScore': 14.87},\n",
       "   {'count': 145,\n",
       "    'percent': 1.53,\n",
       "    'traitValue': 'Work Clothes',\n",
       "    'rarityScore': 14.35},\n",
       "   {'count': 146,\n",
       "    'percent': 1.54,\n",
       "    'traitValue': 'Tatted Badboy',\n",
       "    'rarityScore': 14.25},\n",
       "   {'count': 146,\n",
       "    'percent': 1.54,\n",
       "    'traitValue': 'Girl Power',\n",
       "    'rarityScore': 14.25},\n",
       "   {'count': 150,\n",
       "    'percent': 1.58,\n",
       "    'traitValue': 'Chef Coat',\n",
       "    'rarityScore': 13.87},\n",
       "   {'count': 150,\n",
       "    'percent': 1.58,\n",
       "    'traitValue': 'Red Jersey',\n",
       "    'rarityScore': 13.87},\n",
       "   {'count': 150,\n",
       "    'percent': 1.58,\n",
       "    'traitValue': 'Doctor Coat',\n",
       "    'rarityScore': 13.87},\n",
       "   {'count': 159,\n",
       "    'percent': 1.67,\n",
       "    'traitValue': 'Pink Black Shirt',\n",
       "    'rarityScore': 13.09},\n",
       "   {'count': 160,\n",
       "    'percent': 1.68,\n",
       "    'traitValue': 'Prison',\n",
       "    'rarityScore': 13.01},\n",
       "   {'count': 165,\n",
       "    'percent': 1.74,\n",
       "    'traitValue': 'Yellow Girly',\n",
       "    'rarityScore': 12.61},\n",
       "   {'count': 167,\n",
       "    'percent': 1.76,\n",
       "    'traitValue': 'Football',\n",
       "    'rarityScore': 12.46},\n",
       "   {'count': 180,\n",
       "    'percent': 1.9,\n",
       "    'traitValue': 'Pink Girly Shirt',\n",
       "    'rarityScore': 11.56},\n",
       "   {'count': 181,\n",
       "    'percent': 1.91,\n",
       "    'traitValue': 'Police',\n",
       "    'rarityScore': 11.5},\n",
       "   {'count': 181,\n",
       "    'percent': 1.91,\n",
       "    'traitValue': 'Indiana Shirt',\n",
       "    'rarityScore': 11.5},\n",
       "   {'count': 182,\n",
       "    'percent': 1.92,\n",
       "    'traitValue': 'Robin',\n",
       "    'rarityScore': 11.44},\n",
       "   {'count': 183,\n",
       "    'percent': 1.93,\n",
       "    'traitValue': 'Red Vests',\n",
       "    'rarityScore': 11.37},\n",
       "   {'count': 187,\n",
       "    'percent': 1.97,\n",
       "    'traitValue': 'Sheriff',\n",
       "    'rarityScore': 11.13},\n",
       "   {'count': 187,\n",
       "    'percent': 1.97,\n",
       "    'traitValue': 'Hoodie',\n",
       "    'rarityScore': 11.13},\n",
       "   {'count': 188,\n",
       "    'percent': 1.98,\n",
       "    'traitValue': 'Space Suit',\n",
       "    'rarityScore': 11.07},\n",
       "   {'count': 190, 'percent': 2, 'traitValue': 'Cheetah', 'rarityScore': 10.95},\n",
       "   {'count': 192,\n",
       "    'percent': 2.02,\n",
       "    'traitValue': 'Emperor',\n",
       "    'rarityScore': 10.84},\n",
       "   {'count': 195,\n",
       "    'percent': 2.05,\n",
       "    'traitValue': 'Surf Suit',\n",
       "    'rarityScore': 10.67},\n",
       "   {'count': 196,\n",
       "    'percent': 2.06,\n",
       "    'traitValue': 'American Football',\n",
       "    'rarityScore': 10.62},\n",
       "   {'count': 197,\n",
       "    'percent': 2.07,\n",
       "    'traitValue': 'Blue Biker',\n",
       "    'rarityScore': 10.56},\n",
       "   {'count': 209,\n",
       "    'percent': 2.2,\n",
       "    'traitValue': 'Camouflage Shirt',\n",
       "    'rarityScore': 9.96},\n",
       "   {'count': 216,\n",
       "    'percent': 2.27,\n",
       "    'traitValue': 'Spider Suit',\n",
       "    'rarityScore': 9.64},\n",
       "   {'count': 218,\n",
       "    'percent': 2.3,\n",
       "    'traitValue': 'Weed Shirt',\n",
       "    'rarityScore': 9.55},\n",
       "   {'count': 231, 'percent': 2.43, 'traitValue': 'Gym', 'rarityScore': 9.01},\n",
       "   {'count': 238,\n",
       "    'percent': 2.51,\n",
       "    'traitValue': 'Gladiator Arm Plate',\n",
       "    'rarityScore': 8.74},\n",
       "   {'count': 248,\n",
       "    'percent': 2.61,\n",
       "    'traitValue': 'Green Orange Shirt',\n",
       "    'rarityScore': 8.39},\n",
       "   {'count': 257,\n",
       "    'percent': 2.71,\n",
       "    'traitValue': 'Hawaii Shirt',\n",
       "    'rarityScore': 8.1},\n",
       "   {'count': 292,\n",
       "    'percent': 3.07,\n",
       "    'traitValue': 'White Flower',\n",
       "    'rarityScore': 7.13},\n",
       "   {'count': 1900,\n",
       "    'percent': 20.01,\n",
       "    'traitValue': 'None',\n",
       "    'rarityScore': 1.1}],\n",
       "  'Earring': [{'count': 36,\n",
       "    'percent': 0.38,\n",
       "    'traitValue': 'Feather',\n",
       "    'rarityScore': 181.14},\n",
       "   {'count': 91,\n",
       "    'percent': 0.96,\n",
       "    'traitValue': 'Diamond Stud',\n",
       "    'rarityScore': 71.66},\n",
       "   {'count': 95, 'percent': 1, 'traitValue': 'Cross', 'rarityScore': 68.64},\n",
       "   {'count': 113,\n",
       "    'percent': 1.19,\n",
       "    'traitValue': 'Pink Studs',\n",
       "    'rarityScore': 57.71},\n",
       "   {'count': 114,\n",
       "    'percent': 1.2,\n",
       "    'traitValue': 'Golden Studs',\n",
       "    'rarityScore': 57.2},\n",
       "   {'count': 116,\n",
       "    'percent': 1.22,\n",
       "    'traitValue': 'Diamond Studs',\n",
       "    'rarityScore': 56.22},\n",
       "   {'count': 190, 'percent': 2, 'traitValue': 'Hole', 'rarityScore': 34.32},\n",
       "   {'count': 217,\n",
       "    'percent': 2.29,\n",
       "    'traitValue': 'Golden Earring',\n",
       "    'rarityScore': 30.05},\n",
       "   {'count': 259,\n",
       "    'percent': 2.73,\n",
       "    'traitValue': 'Stake',\n",
       "    'rarityScore': 25.18},\n",
       "   {'count': 264,\n",
       "    'percent': 2.78,\n",
       "    'traitValue': 'Broken Screw',\n",
       "    'rarityScore': 24.7},\n",
       "   {'count': 316,\n",
       "    'percent': 3.33,\n",
       "    'traitValue': 'Silver Piercing',\n",
       "    'rarityScore': 20.64},\n",
       "   {'count': 331,\n",
       "    'percent': 3.49,\n",
       "    'traitValue': 'Wooden Earring',\n",
       "    'rarityScore': 19.7},\n",
       "   {'count': 361,\n",
       "    'percent': 3.8,\n",
       "    'traitValue': 'Silver Knop',\n",
       "    'rarityScore': 18.06},\n",
       "   {'count': 472,\n",
       "    'percent': 4.97,\n",
       "    'traitValue': 'Silver Earring',\n",
       "    'rarityScore': 13.82},\n",
       "   {'count': 6521, 'percent': 68.67, 'traitValue': 'None', 'rarityScore': 1}],\n",
       "  'Background': [{'count': 869,\n",
       "    'percent': 9.15,\n",
       "    'traitValue': 'Blue',\n",
       "    'rarityScore': 11.26},\n",
       "   {'count': 917,\n",
       "    'percent': 9.66,\n",
       "    'traitValue': 'Green',\n",
       "    'rarityScore': 10.67},\n",
       "   {'count': 933,\n",
       "    'percent': 9.83,\n",
       "    'traitValue': 'Orange',\n",
       "    'rarityScore': 10.48},\n",
       "   {'count': 935, 'percent': 9.85, 'traitValue': 'Red', 'rarityScore': 10.46},\n",
       "   {'count': 937,\n",
       "    'percent': 9.87,\n",
       "    'traitValue': 'Grass Green',\n",
       "    'rarityScore': 10.44},\n",
       "   {'count': 961,\n",
       "    'percent': 10.12,\n",
       "    'traitValue': 'Light Blue',\n",
       "    'rarityScore': 10.18},\n",
       "   {'count': 974,\n",
       "    'percent': 10.26,\n",
       "    'traitValue': 'Purple',\n",
       "    'rarityScore': 10.04},\n",
       "   {'count': 983,\n",
       "    'percent': 10.35,\n",
       "    'traitValue': 'Brown',\n",
       "    'rarityScore': 9.95},\n",
       "   {'count': 987,\n",
       "    'percent': 10.39,\n",
       "    'traitValue': 'Yellow',\n",
       "    'rarityScore': 9.91},\n",
       "   {'count': 1000,\n",
       "    'percent': 10.53,\n",
       "    'traitValue': 'Grey',\n",
       "    'rarityScore': 9.78}],\n",
       "  'Traits Count': [{'count': 279,\n",
       "    'percent': 2.94,\n",
       "    'traitValue': '4',\n",
       "    'rarityScore': 188.44},\n",
       "   {'count': 1990, 'percent': 20.96, 'traitValue': '7', 'rarityScore': 26.42},\n",
       "   {'count': 2059, 'percent': 21.68, 'traitValue': '5', 'rarityScore': 25.53},\n",
       "   {'count': 5168,\n",
       "    'percent': 54.42,\n",
       "    'traitValue': '6',\n",
       "    'rarityScore': 10.17}]},\n",
       " 'published': True,\n",
       " 'verified': True,\n",
       " 'socialShareId': 2,\n",
       " 'websiteDescription': None,\n",
       " 'marketplaceUrl': None,\n",
       " 'openSeaListingsRebuildInProgress': False,\n",
       " 'createdBy': None,\n",
       " 'editedBy': None,\n",
       " 'rankingsUpdatedDate': '2023-07-05T18:10:50.205Z',\n",
       " 'krakenId': None,\n",
       " 'stats': {'count': 9496,\n",
       "  'marketCap': 390.9322047618744,\n",
       "  'floorPrice': 0.0418,\n",
       "  'ownerCount': 3036,\n",
       "  'totalSales': 7293,\n",
       "  'oneDaySales': 2,\n",
       "  'totalSupply': 9591,\n",
       "  'totalVolume': 825.3576800924587,\n",
       "  'oneDayChange': 0,\n",
       "  'oneDayVolume': 0.0799,\n",
       "  'sevenDaySales': 14,\n",
       "  'sevenDayChange': 1.2118001722651166,\n",
       "  'sevenDayVolume': 0.5706444444444001,\n",
       "  'thirtyDaySales': 128,\n",
       "  'thirtyDayChange': 4.476198610055102,\n",
       "  'thirtyDayVolume': 5.899032333333288,\n",
       "  'oneDayAveragePrice': 0.03995,\n",
       "  'allTimeAveragePrice': 0.11317121624742338,\n",
       "  'sevenDayAveragePrice': 0.04076031746031429,\n",
       "  'thirtyDayAveragePrice': 0.046086190104166314}}"
      ]
     },
     "execution_count": 133,
     "metadata": {},
     "output_type": "execute_result"
    }
   ],
   "source": [
    "resp"
   ]
  },
  {
   "cell_type": "code",
   "execution_count": 137,
   "metadata": {},
   "outputs": [],
   "source": [
    "import requests\n",
    "\n",
    "url = \"https://api.raritysniper.com/public/collection/bearsontheblock/id/0\"\n",
    "\n",
    "payload = {}\n",
    "headers = {\n",
    "  'authority': 'api.raritysniper.com',\n",
    "  'accept': '*/*',\n",
    "  'accept-language': 'en-GB,en-US;q=0.9,en;q=0.8',\n",
    "  'origin': 'https://raritysniper.com',\n",
    "  'referer': 'https://raritysniper.com/'\n",
    "}\n",
    "\n",
    "response = requests.request(\"GET\", url, headers=headers, data=payload)\n",
    "\n",
    "resp = response.json()\n"
   ]
  },
  {
   "cell_type": "markdown",
   "metadata": {},
   "source": [
    "based on the totalSuppy aka total nft count - we can fetch nft wise ranks and traits - i.e ranging between 0 to totalSupply - 1,\n",
    "\n",
    "below returns trait values and rarity rank computer by rarity sniper's algorithm based on NFT's traits"
   ]
  },
  {
   "cell_type": "code",
   "execution_count": 138,
   "metadata": {},
   "outputs": [
    {
     "data": {
      "text/plain": [
       "{'nftId': 0,\n",
       " 'name': None,\n",
       " 'rawTokenId': '0',\n",
       " 'image': 'https://ipfs.io/ipfs/QmS8KdTziN5DW1PkniodpfcNtwvu24JQjnjWmLsacVQN3Z',\n",
       " 'rank': 9040,\n",
       " 'rarityScore': 58.65,\n",
       " 'traits': [{'count': 933,\n",
       "   'percent': 9.83,\n",
       "   'traitType': 'Background',\n",
       "   'traitValue': 'Orange',\n",
       "   'rarityScore': 10.48},\n",
       "  {'count': 5168,\n",
       "   'percent': 54.42,\n",
       "   'traitType': 'Traits Count',\n",
       "   'traitValue': '6',\n",
       "   'rarityScore': 10.17},\n",
       "  {'count': 337,\n",
       "   'percent': 3.55,\n",
       "   'traitType': 'Mouth',\n",
       "   'traitValue': 'Bubble Gum',\n",
       "   'rarityScore': 10.01},\n",
       "  {'count': 257,\n",
       "   'percent': 2.71,\n",
       "   'traitType': 'Clothes',\n",
       "   'traitValue': 'Hawaii Shirt',\n",
       "   'rarityScore': 8.1},\n",
       "  {'count': 438,\n",
       "   'percent': 4.61,\n",
       "   'traitType': 'Hat',\n",
       "   'traitValue': 'Army Helmet',\n",
       "   'rarityScore': 6.57},\n",
       "  {'count': 1040,\n",
       "   'percent': 10.95,\n",
       "   'traitType': 'Fur',\n",
       "   'traitValue': 'Red',\n",
       "   'rarityScore': 6.27},\n",
       "  {'count': 539,\n",
       "   'percent': 5.68,\n",
       "   'traitType': 'Eyes',\n",
       "   'traitValue': 'Serious',\n",
       "   'rarityScore': 6.05},\n",
       "  {'count': 6521,\n",
       "   'percent': 68.67,\n",
       "   'traitType': 'Earring',\n",
       "   'traitValue': 'None',\n",
       "   'rarityScore': 1}],\n",
       " 'url': 'https://opensea.io/assets/ethereum/0x02aa731631c6d7f8241d74f906f5b51724ab98f8/0',\n",
       " 'collectionName': 'BearsOnTheBlock',\n",
       " 'collectionSlug': 'bearsontheblock',\n",
       " 'blockchain': 'ethereum',\n",
       " 'owner': None,\n",
       " 'krakenNftIdPublic': None}"
      ]
     },
     "execution_count": 138,
     "metadata": {},
     "output_type": "execute_result"
    }
   ],
   "source": [
    "resp"
   ]
  },
  {
   "cell_type": "code",
   "execution_count": 141,
   "metadata": {},
   "outputs": [],
   "source": [
    "collection_slug = \"bearsontheblock\""
   ]
  },
  {
   "cell_type": "code",
   "execution_count": 142,
   "metadata": {},
   "outputs": [
    {
     "data": {
      "text/plain": [
       "9495"
      ]
     },
     "execution_count": 142,
     "metadata": {},
     "output_type": "execute_result"
    }
   ],
   "source": [
    "collection_size"
   ]
  },
  {
   "cell_type": "markdown",
   "metadata": {},
   "source": [
    "based on robots.txt of raritysniper - we can infer that it allows crawling of all parts of the website\n",
    "\n",
    "User-agent: *\n",
    "\n",
    "Allow: /\n",
    "\n",
    "Sitemap: https://raritysniper.com/sitemap\n",
    "\n",
    "Sitemap: https://raritysniper.com/news/sitemap.xml\n",
    "\n",
    "Sitemap: https://raritysniper.com/news/sitemap-news.xml"
   ]
  },
  {
   "cell_type": "code",
   "execution_count": 146,
   "metadata": {},
   "outputs": [],
   "source": [
    "import logging\n",
    "from tqdm import tqdm"
   ]
  },
  {
   "cell_type": "code",
   "execution_count": 148,
   "metadata": {},
   "outputs": [],
   "source": [
    "nfts_list = []\n",
    "nfts_df = pd.DataFrame()"
   ]
  },
  {
   "cell_type": "code",
   "execution_count": null,
   "metadata": {},
   "outputs": [],
   "source": [
    "url = f\"https://api.raritysniper.com/public/collection/cryptopunks/id/0\""
   ]
  },
  {
   "cell_type": "code",
   "execution_count": 19,
   "metadata": {},
   "outputs": [
    {
     "data": {
      "text/html": [
       "<div>\n",
       "<style scoped>\n",
       "    .dataframe tbody tr th:only-of-type {\n",
       "        vertical-align: middle;\n",
       "    }\n",
       "\n",
       "    .dataframe tbody tr th {\n",
       "        vertical-align: top;\n",
       "    }\n",
       "\n",
       "    .dataframe thead th {\n",
       "        text-align: right;\n",
       "    }\n",
       "</style>\n",
       "<table border=\"1\" class=\"dataframe\">\n",
       "  <thead>\n",
       "    <tr style=\"text-align: right;\">\n",
       "      <th></th>\n",
       "      <th>collection_slug</th>\n",
       "      <th>contract_address</th>\n",
       "      <th>collection_stats</th>\n",
       "    </tr>\n",
       "  </thead>\n",
       "  <tbody>\n",
       "    <tr>\n",
       "      <th>0</th>\n",
       "      <td>gotcha-gatcha</td>\n",
       "      <td>0x00dca92b7fbd0c01f3508756718807836ec82156</td>\n",
       "      <td>None</td>\n",
       "    </tr>\n",
       "    <tr>\n",
       "      <th>1</th>\n",
       "      <td>rare-ghost-club</td>\n",
       "      <td>0x00fa82ea9be4e24ec6d7ed86ef93bfe85b9a3e68</td>\n",
       "      <td>{'total': {'volume': 0.18, 'sales': 2, 'averag...</td>\n",
       "    </tr>\n",
       "    <tr>\n",
       "      <th>2</th>\n",
       "      <td>robofrens</td>\n",
       "      <td>0x01f61f3c7f27893b30e8abdafd4a84ca8bd24b96</td>\n",
       "      <td>{'total': {'volume': 848.3959432001659, 'sales...</td>\n",
       "    </tr>\n",
       "    <tr>\n",
       "      <th>3</th>\n",
       "      <td>bearsontheblock</td>\n",
       "      <td>0x02aa731631c6d7f8241d74f906f5b51724ab98f8</td>\n",
       "      <td>{'total': {'volume': 11.23, 'sales': 25, 'aver...</td>\n",
       "    </tr>\n",
       "    <tr>\n",
       "      <th>4</th>\n",
       "      <td>antvasion</td>\n",
       "      <td>0x03315ec191c834cbcf88068e24408033f0e3bf4a</td>\n",
       "      <td>{'total': {'volume': 26.24196, 'sales': 526, '...</td>\n",
       "    </tr>\n",
       "  </tbody>\n",
       "</table>\n",
       "</div>"
      ],
      "text/plain": [
       "   collection_slug                            contract_address  \\\n",
       "0    gotcha-gatcha  0x00dca92b7fbd0c01f3508756718807836ec82156   \n",
       "1  rare-ghost-club  0x00fa82ea9be4e24ec6d7ed86ef93bfe85b9a3e68   \n",
       "2        robofrens  0x01f61f3c7f27893b30e8abdafd4a84ca8bd24b96   \n",
       "3  bearsontheblock  0x02aa731631c6d7f8241d74f906f5b51724ab98f8   \n",
       "4        antvasion  0x03315ec191c834cbcf88068e24408033f0e3bf4a   \n",
       "\n",
       "                                    collection_stats  \n",
       "0                                               None  \n",
       "1  {'total': {'volume': 0.18, 'sales': 2, 'averag...  \n",
       "2  {'total': {'volume': 848.3959432001659, 'sales...  \n",
       "3  {'total': {'volume': 11.23, 'sales': 25, 'aver...  \n",
       "4  {'total': {'volume': 26.24196, 'sales': 526, '...  "
      ]
     },
     "execution_count": 19,
     "metadata": {},
     "output_type": "execute_result"
    }
   ],
   "source": [
    "import pandas as pd\n",
    "import logging\n",
    "import requests\n",
    "from tqdm import tqdm\n",
    "\n",
    "data = pd.read_pickle(\"data/data_collection_stats.pkl\")\n",
    "\n",
    "data.head()"
   ]
  },
  {
   "cell_type": "code",
   "execution_count": 20,
   "metadata": {},
   "outputs": [],
   "source": [
    "collection_slugs = list(data['collection_slug'].drop_duplicates().to_numpy())"
   ]
  },
  {
   "cell_type": "code",
   "execution_count": 21,
   "metadata": {},
   "outputs": [
    {
     "data": {
      "text/plain": [
       "739"
      ]
     },
     "execution_count": 21,
     "metadata": {},
     "output_type": "execute_result"
    }
   ],
   "source": [
    "len(collection_slugs)"
   ]
  },
  {
   "cell_type": "code",
   "execution_count": 26,
   "metadata": {},
   "outputs": [
    {
     "name": "stderr",
     "output_type": "stream",
     "text": [
      "100%|██████████| 739/739 [19:40<00:00,  1.60s/it]  \n"
     ]
    }
   ],
   "source": [
    "urls = []\n",
    "for collection_slug in tqdm(collection_slugs):\n",
    "    collection_size = size_of_collection(collection_slug)\n",
    "    logging.info(f\"collecting NFT traits for {collection_slug=},  {collection_size=}\")\n",
    "    \n",
    "    try:\n",
    "        for i in range(collection_size):\n",
    "            \n",
    "            url = f\"https://api.raritysniper.com/public/collection/{collection_slug}/id/{i}\"\n",
    "            urls.append((i, collection_slug, url))\n",
    "    except Exception:\n",
    "        pass"
   ]
  },
  {
   "cell_type": "code",
   "execution_count": 29,
   "metadata": {},
   "outputs": [],
   "source": [
    "url_df = pd.DataFrame(urls)\n",
    "url_df.to_pickle(\"data/url_df.pkl\")"
   ]
  },
  {
   "cell_type": "code",
   "execution_count": 30,
   "metadata": {},
   "outputs": [
    {
     "data": {
      "text/plain": [
       "(4152150, 3)"
      ]
     },
     "execution_count": 30,
     "metadata": {},
     "output_type": "execute_result"
    }
   ],
   "source": [
    "url_df.shape"
   ]
  },
  {
   "cell_type": "code",
   "execution_count": 34,
   "metadata": {},
   "outputs": [
    {
     "data": {
      "text/plain": [
       "129754.6875"
      ]
     },
     "execution_count": 34,
     "metadata": {},
     "output_type": "execute_result"
    }
   ],
   "source": [
    "4152150/32"
   ]
  },
  {
   "cell_type": "code",
   "execution_count": 35,
   "metadata": {},
   "outputs": [
    {
     "data": {
      "text/plain": [
       "(0,\n",
       " 'gotcha-gatcha',\n",
       " 'https://api.raritysniper.com/public/collection/gotcha-gatcha/id/0')"
      ]
     },
     "execution_count": 35,
     "metadata": {},
     "output_type": "execute_result"
    }
   ],
   "source": [
    "urls[0]"
   ]
  },
  {
   "cell_type": "code",
   "execution_count": 44,
   "metadata": {},
   "outputs": [],
   "source": [
    "import asyncio\n",
    "import aiohttp\n",
    "import multiprocessing\n",
    "from tqdm import tqdm\n",
    "import pandas as pd\n",
    "import requests\n",
    "\n",
    "url_df.to_pickle(\"data/url_df.pkl\")\n",
    "\n",
    "count = 0\n",
    "\n",
    "payload = {}\n",
    "headers = {\n",
    "        'authority': 'api.raritysniper.com',\n",
    "        'accept': 'application/json',\n",
    "        'origin': 'https://raritysniper.com'\n",
    "        }\n",
    "\n",
    "nfts_list = []\n",
    "\n",
    "async def fetch_data(session, url, collection_slug, i, progress_bar):\n",
    "    global count  # Add this line to declare count as a global variable\n",
    "    response = await session.get(url, headers=headers, data=payload)\n",
    "    resp = await response.json()\n",
    "    subset_dict = {key: resp[key] for key in ['rank', 'rarityScore', 'image', 'traits']}\n",
    "    subset_dict['collection_slug'] = collection_slug\n",
    "    subset_dict['nft_id'] = i\n",
    "    nfts_list.append(subset_dict)\n",
    "\n",
    "    global count  # Declare count as a global variable\n",
    "    count += 1\n",
    "    \n",
    "    progress_bar.update(1)  # Update the progress bar\n",
    "   \n",
    "    if count % 100 == 0:\n",
    "        nfts_df = pd.DataFrame(nfts_list)\n",
    "        nfts_df.to_pickle(\"data/nfts_df.pkl\")\n",
    "\n",
    "\n",
    "\n",
    "max_concurrent_requests = 32\n",
    "\n",
    "\n",
    "\n",
    "async def bound_fetch(sem, func):\n",
    "    # Wrapper function to limit the number of concurrent calls\n",
    "    async with sem:\n",
    "        return await func\n",
    "\n",
    "async def main():\n",
    "    async with aiohttp.ClientSession() as session:\n",
    "        # Limit the number of concurrent requests using asyncio.semaphore\n",
    "        with tqdm(total=len(urls)) as progress_bar:\n",
    "            tasks = [fetch_data(session, url, cs, i, progress_bar) for i, cs, url in urls]\n",
    "            semaphore = asyncio.Semaphore(max_concurrent_requests)\n",
    "            tasks = [bound_fetch(semaphore, fetch_data(session, url, collection_slug, i, progress_bar)) for i, collection_slug, url in urls]\n",
    "            results = await asyncio.gather(*tasks, return_exceptions=True)\n",
    "            print(f\"{len(results)=}\")\n",
    "            pd.DataFrame(results).to_pickle(\"data/results.pkl\")\n"
   ]
  },
  {
   "cell_type": "code",
   "execution_count": 42,
   "metadata": {},
   "outputs": [
    {
     "data": {
      "text/plain": [
       "32"
      ]
     },
     "execution_count": 42,
     "metadata": {},
     "output_type": "execute_result"
    }
   ],
   "source": [
    "import multiprocessing\n",
    "multiprocessing.cpu_count() * 4"
   ]
  },
  {
   "cell_type": "code",
   "execution_count": 45,
   "metadata": {},
   "outputs": [
    {
     "name": "stderr",
     "output_type": "stream",
     "text": [
      "  0%|          | 0/4152150 [00:00<?, ?it/s]/var/folders/5p/k025km096tndpdfzbd0mhr8c0000gn/T/ipykernel_9475/717928747.py:50: RuntimeWarning: coroutine 'fetch_data' was never awaited\n",
      "  tasks = [fetch_data(session, url, cs, i, progress_bar) for i, cs, url in urls]\n",
      "RuntimeWarning: Enable tracemalloc to get the object allocation traceback\n",
      "/var/folders/5p/k025km096tndpdfzbd0mhr8c0000gn/T/ipykernel_9475/717928747.py:52: RuntimeWarning: coroutine 'fetch_data' was never awaited\n",
      "  tasks = [bound_fetch(semaphore, fetch_data(session, url, collection_slug, i, progress_bar)) for i, collection_slug, url in urls]\n",
      "RuntimeWarning: Enable tracemalloc to get the object allocation traceback\n",
      " 10%|▉         | 401893/4152150 [16:19:17<33:23:51, 31.19it/s]       "
     ]
    }
   ],
   "source": [
    "import nest_asyncio\n",
    "import asyncio\n",
    "nest_asyncio.apply()\n",
    "\n",
    "asyncio.run(main())"
   ]
  },
  {
   "cell_type": "code",
   "execution_count": 157,
   "metadata": {},
   "outputs": [
    {
     "data": {
      "text/plain": [
       "(863, 2)"
      ]
     },
     "execution_count": 157,
     "metadata": {},
     "output_type": "execute_result"
    }
   ],
   "source": [
    "data.shape"
   ]
  },
  {
   "cell_type": "code",
   "execution_count": 159,
   "metadata": {},
   "outputs": [
    {
     "data": {
      "text/plain": [
       "739"
      ]
     },
     "execution_count": 159,
     "metadata": {},
     "output_type": "execute_result"
    }
   ],
   "source": [
    "len(collection_slugs)"
   ]
  },
  {
   "cell_type": "code",
   "execution_count": null,
   "metadata": {},
   "outputs": [],
   "source": []
  }
 ],
 "metadata": {
  "kernelspec": {
   "display_name": "base",
   "language": "python",
   "name": "python3"
  },
  "language_info": {
   "codemirror_mode": {
    "name": "ipython",
    "version": 3
   },
   "file_extension": ".py",
   "mimetype": "text/x-python",
   "name": "python",
   "nbconvert_exporter": "python",
   "pygments_lexer": "ipython3",
   "version": "3.11.4"
  },
  "orig_nbformat": 4
 },
 "nbformat": 4,
 "nbformat_minor": 2
}
